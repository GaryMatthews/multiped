{
 "cells": [
  {
   "cell_type": "markdown",
   "metadata": {},
   "source": [
    "# New Quad"
   ]
  },
  {
   "cell_type": "code",
   "execution_count": 1,
   "metadata": {},
   "outputs": [],
   "source": [
    "%matplotlib inline\n",
    "\n",
    "from __future__ import print_function\n",
    "from __future__ import division\n",
    "import numpy as np\n",
    "import sympy\n",
    "from sympy import symbols, sin, cos, pi, simplify"
   ]
  },
  {
   "cell_type": "markdown",
   "metadata": {},
   "source": [
    "## Forward Kinematics"
   ]
  },
  {
   "cell_type": "code",
   "execution_count": 27,
   "metadata": {},
   "outputs": [],
   "source": [
    "def makeT(a, alpha, d, theta):\n",
    "    # create a modified DH homogenious matrix\n",
    "    # this is the same matrix as above\n",
    "    return np.array([\n",
    "        [           cos(theta),           -sin(theta),           0,             a],\n",
    "        [sin(theta)*cos(alpha), cos(theta)*cos(alpha), -sin(alpha), -d*sin(alpha)],\n",
    "        [sin(theta)*sin(alpha), cos(theta)*sin(alpha),  cos(alpha),  d*cos(alpha)],\n",
    "        [                    0,                     0,           0,             1]\n",
    "    ])\n",
    "\n",
    "def simplifyT(tt):\n",
    "    \"\"\"\n",
    "    This goes through each element of a matrix and tries to simplify it.\n",
    "    \"\"\"\n",
    "    ret = []\n",
    "    for row in tt:\n",
    "        m = []\n",
    "        for col in row:\n",
    "            m.append(simplify(col))\n",
    "        ret.append(m[:])\n",
    "    return np.array(ret)\n",
    "\n",
    "def subs(tt, m):\n",
    "    \"\"\"\n",
    "    This allows you to simplify the trigonomic mess that kinematics can\n",
    "    create and also substitute in some inputs in the process\n",
    "    \n",
    "    Yes, this is basically the same as above. I could combine these into 1\n",
    "    function, but I wanted to beclearer on what I am doing.\n",
    "    \"\"\"\n",
    "    ret = tt.copy()\n",
    "    for i, row in enumerate(tt):\n",
    "        for j, col in enumerate(row):\n",
    "            try:\n",
    "                ret[i,j] = col.subs(m)\n",
    "            except:\n",
    "                ret[i,j] = simplify(col)\n",
    "    return ret"
   ]
  },
  {
   "cell_type": "code",
   "execution_count": 4,
   "metadata": {},
   "outputs": [],
   "source": [
    "t1, t2, t3, t4 = symbols('t1 t2 t3 t4')\n",
    "d2, l1, l2, l3 = symbols('d2 l1 l2 l3')"
   ]
  },
  {
   "cell_type": "code",
   "execution_count": 33,
   "metadata": {},
   "outputs": [],
   "source": [
    "# a, alpha, d, theta\n",
    "T1 = makeT(0, 0, 0, t1)\n",
    "T2 = makeT(d2, pi/2, 0, t2)\n",
    "T3 = makeT(l1, 0, 0, t3)\n",
    "T4 = makeT(l2, 0, 0, t4)\n",
    "T5 = makeT(l3, 0, 0, 0)"
   ]
  },
  {
   "cell_type": "code",
   "execution_count": 34,
   "metadata": {},
   "outputs": [
    {
     "name": "stdout",
     "output_type": "stream",
     "text": [
      "T1 =  [[cos(t1) -sin(t1) 0 0]\n",
      " [sin(t1) cos(t1) 0 0]\n",
      " [0 0 1 0]\n",
      " [0 0 0 1]]\n",
      "T2 =  [[cos(t2) -sin(t2) 0 d2]\n",
      " [0 0 -1 0]\n",
      " [sin(t2) cos(t2) 0 0]\n",
      " [0 0 0 1]]\n",
      "T3 =  [[cos(t3) -sin(t3) 0 l1]\n",
      " [sin(t3) cos(t3) 0 0]\n",
      " [0 0 1 0]\n",
      " [0 0 0 1]]\n",
      "T4 =  [[cos(t4) -sin(t4) 0 l2]\n",
      " [sin(t4) cos(t4) 0 0]\n",
      " [0 0 1 0]\n",
      " [0 0 0 1]]\n",
      "T5 =  [[1 0 0 l3]\n",
      " [0 1 0 0]\n",
      " [0 0 1 0]\n",
      " [0 0 0 1]]\n"
     ]
    }
   ],
   "source": [
    "print('T1 = ', T1)\n",
    "print('T2 = ', T2)\n",
    "print('T3 = ', T3)\n",
    "print('T4 = ', T4)\n",
    "print('T5 = ', T5)"
   ]
  },
  {
   "cell_type": "code",
   "execution_count": 35,
   "metadata": {},
   "outputs": [
    {
     "name": "stdout",
     "output_type": "stream",
     "text": [
      "T =  [[ ((-sin(t3)*sin(t4) + cos(t3)*cos(t4))*cos(t2) - (sin(t3)*cos(t4) + sin(t4)*cos(t3))*sin(t2))*cos(t1)\n",
      "  (-(-sin(t3)*sin(t4) + cos(t3)*cos(t4))*sin(t2) + (-sin(t3)*cos(t4) - sin(t4)*cos(t3))*cos(t2))*cos(t1)\n",
      "  sin(t1)\n",
      "  (d2 - (l3*sin(t4)*cos(t3) + (l2 + l3*cos(t4))*sin(t3))*sin(t2) + (l1 - l3*sin(t3)*sin(t4) + (l2 + l3*cos(t4))*cos(t3))*cos(t2))*cos(t1)]\n",
      " [ ((-sin(t3)*sin(t4) + cos(t3)*cos(t4))*cos(t2) - (sin(t3)*cos(t4) + sin(t4)*cos(t3))*sin(t2))*sin(t1)\n",
      "  (-(-sin(t3)*sin(t4) + cos(t3)*cos(t4))*sin(t2) + (-sin(t3)*cos(t4) - sin(t4)*cos(t3))*cos(t2))*sin(t1)\n",
      "  -cos(t1)\n",
      "  (d2 - (l3*sin(t4)*cos(t3) + (l2 + l3*cos(t4))*sin(t3))*sin(t2) + (l1 - l3*sin(t3)*sin(t4) + (l2 + l3*cos(t4))*cos(t3))*cos(t2))*sin(t1)]\n",
      " [ (-sin(t3)*sin(t4) + cos(t3)*cos(t4))*sin(t2) + (sin(t3)*cos(t4) + sin(t4)*cos(t3))*cos(t2)\n",
      "  (-sin(t3)*sin(t4) + cos(t3)*cos(t4))*cos(t2) + (-sin(t3)*cos(t4) - sin(t4)*cos(t3))*sin(t2)\n",
      "  0\n",
      "  (l3*sin(t4)*cos(t3) + (l2 + l3*cos(t4))*sin(t3))*cos(t2) + (l1 - l3*sin(t3)*sin(t4) + (l2 + l3*cos(t4))*cos(t3))*sin(t2)]\n",
      " [0 0 0 1]]\n"
     ]
    }
   ],
   "source": [
    "T = T1.dot(T2.dot(T3.dot(T4.dot(T5))))\n",
    "print('T = ', T)"
   ]
  },
  {
   "cell_type": "code",
   "execution_count": 36,
   "metadata": {},
   "outputs": [],
   "source": [
    "Tf = simplify(T)"
   ]
  },
  {
   "cell_type": "code",
   "execution_count": 37,
   "metadata": {},
   "outputs": [
    {
     "name": "stdout",
     "output_type": "stream",
     "text": [
      "[[cos(t1)*cos(t2 + t3 + t4), -sin(t2 + t3 + t4)*cos(t1), sin(t1), (d2 + l1*cos(t2) + l2*cos(t2 + t3) + l3*cos(t2 + t3 + t4))*cos(t1)], [sin(t1)*cos(t2 + t3 + t4), -sin(t1)*sin(t2 + t3 + t4), -cos(t1), (d2 + l1*cos(t2) + l2*cos(t2 + t3) + l3*cos(t2 + t3 + t4))*sin(t1)], [sin(t2 + t3 + t4), cos(t2 + t3 + t4), 0, l1*sin(t2) + l2*sin(t2 + t3) + l3*sin(t2 + t3 + t4)], [0, 0, 0, 1]]\n"
     ]
    }
   ],
   "source": [
    "print(Tf)"
   ]
  },
  {
   "cell_type": "code",
   "execution_count": 38,
   "metadata": {},
   "outputs": [
    {
     "name": "stdout",
     "output_type": "stream",
     "text": [
      "position x: (d2 + l1*cos(t2) + l2*cos(t2 + t3) + l3*cos(t2 + t3 + t4))*cos(t1)\n",
      "position y: (d2 + l1*cos(t2) + l2*cos(t2 + t3) + l3*cos(t2 + t3 + t4))*sin(t1)\n",
      "position z: l1*sin(t2) + l2*sin(t2 + t3) + l3*sin(t2 + t3 + t4)\n"
     ]
    }
   ],
   "source": [
    "print('position x: {}'.format(Tf[0,3]))\n",
    "print('position y: {}'.format(Tf[1,3]))\n",
    "print('position z: {}'.format(Tf[2,3]))"
   ]
  },
  {
   "cell_type": "code",
   "execution_count": 54,
   "metadata": {},
   "outputs": [],
   "source": [
    "from math import cos, sin, pi, atan2, sqrt, acos\n",
    "def forward(t1,t2,t3,t4, degrees=True):\n",
    "    d2 = 30\n",
    "    l1 = 60\n",
    "    l2 = 80\n",
    "    l3 = 30\n",
    "    \n",
    "    if degrees:\n",
    "        t1 *= pi/180\n",
    "        t2 *= pi/180\n",
    "        t3 *= pi/180\n",
    "        t4 *= pi/180\n",
    "        \n",
    "    x = (d2 + l1*cos(t2) + l2*cos(t2 + t3) + l3*cos(t2 + t3 + t4))*cos(t1)\n",
    "    y = (d2 + l1*cos(t2) + l2*cos(t2 + t3) + l3*cos(t2 + t3 + t4))*sin(t1)\n",
    "    z = l1*sin(t2) + l2*sin(t2 + t3) + l3*sin(t2 + t3 + t4)\n",
    "    return (x,y,z)"
   ]
  },
  {
   "cell_type": "markdown",
   "metadata": {},
   "source": [
    "## Inverse Kinematics"
   ]
  },
  {
   "cell_type": "code",
   "execution_count": 61,
   "metadata": {},
   "outputs": [],
   "source": [
    "def cosinelaw(a,b,c):\n",
    "    # cos(g) = (a^2+b^2-c^2)/2ab\n",
    "    return acos((a**2+b**2-c**2)/(2*a*b))\n",
    "\n",
    "def inverse(x,y,z,o, degrees=True):\n",
    "    d2 = 30\n",
    "    l1 = 60\n",
    "    l2 = 80\n",
    "    l3 = 30\n",
    "    t1 = atan2(y,x-d2)\n",
    "    \n",
    "    w = sqrt((x-d2)**2+y**2)\n",
    "    j4w = w+l3*cos(o)\n",
    "    j4z = z+l3*sin(o)\n",
    "    r = sqrt(j4w**2+j4z**2)\n",
    "    g1 = atan2(j4z,j4w)\n",
    "    g2 = cosinelaw(l1,r,l2)\n",
    "    t2 = g1+g2\n",
    "    \n",
    "    t3 = pi+cosinelaw(l1,l2,r)\n",
    "    \n",
    "    j2w=l1*cos(t2)\n",
    "    j2z=l1*sin(t2)\n",
    "    c=sqrt((w-j2w)**2+(z-j2z)**2)\n",
    "    t4=pi+cosinelaw(l2,l3,c)\n",
    "    \n",
    "    \n",
    "    if degrees:\n",
    "        t1 *= 180/pi\n",
    "        t2 *= 180/pi\n",
    "        t3 *= 180/pi\n",
    "        t4 *= 180/pi\n",
    "    \n",
    "    return (t1,t2,t3,t4)"
   ]
  },
  {
   "cell_type": "code",
   "execution_count": 62,
   "metadata": {},
   "outputs": [
    {
     "name": "stdout",
     "output_type": "stream",
     "text": [
      "forward: (200.0, 0.0, 0.0)\n",
      "inverse [deg]: (0.0, 1.5035805639717594e-15, 360.0, 360.0)\n"
     ]
    }
   ],
   "source": [
    "print('forward:', forward(0,0,0,0))\n",
    "print('inverse [deg]:', inverse(200,0,0,pi))"
   ]
  },
  {
   "cell_type": "code",
   "execution_count": 63,
   "metadata": {},
   "outputs": [
    {
     "data": {
      "text/plain": [
       "6.283185307179586"
      ]
     },
     "execution_count": 63,
     "metadata": {},
     "output_type": "execute_result"
    }
   ],
   "source": [
    "2*pi"
   ]
  },
  {
   "cell_type": "code",
   "execution_count": 64,
   "metadata": {},
   "outputs": [
    {
     "name": "stdout",
     "output_type": "stream",
     "text": [
      "forward: (86.3815572471545, 0.0, -89.47879140045987)\n",
      "inverse [deg]: (180.0, 113.41783600363294, 182.68908020955848, 359.4867600357776)\n"
     ]
    }
   ],
   "source": [
    "print('forward:', forward(0,20,-110,0))\n",
    "print('inverse [deg]:', inverse(5.2,0,-43.6,90))"
   ]
  },
  {
   "cell_type": "code",
   "execution_count": null,
   "metadata": {},
   "outputs": [],
   "source": []
  }
 ],
 "metadata": {
  "kernelspec": {
   "display_name": "Python 2",
   "language": "python",
   "name": "python2"
  },
  "language_info": {
   "codemirror_mode": {
    "name": "ipython",
    "version": 2
   },
   "file_extension": ".py",
   "mimetype": "text/x-python",
   "name": "python",
   "nbconvert_exporter": "python",
   "pygments_lexer": "ipython2",
   "version": "2.7.14"
  }
 },
 "nbformat": 4,
 "nbformat_minor": 2
}
