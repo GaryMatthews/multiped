{
 "cells": [
  {
   "cell_type": "code",
   "execution_count": 1,
   "metadata": {},
   "outputs": [],
   "source": [
    "%matplotlib inline\n",
    "\n",
    "from __future__ import print_function\n",
    "from __future__ import division\n",
    "\n",
    "import numpy as np\n",
    "from math import cos, sin, pi, atan2, sqrt, acos\n",
    "import matplotlib.pyplot as plt\n",
    "from matplotlib.lines import Line2D\n",
    "from mpl_toolkits.mplot3d import Axes3D\n",
    "from matplotlib import animation\n",
    "from matplotlib import rc\n",
    "from IPython.display import HTML"
   ]
  },
  {
   "cell_type": "code",
   "execution_count": 8,
   "metadata": {},
   "outputs": [],
   "source": [
    "from quadruped import DiscreteRippleGait\n",
    "from quadruped import Leg4"
   ]
  },
  {
   "cell_type": "code",
   "execution_count": 23,
   "metadata": {},
   "outputs": [],
   "source": [
    "class Sim(object):\n",
    "    def __init__(self, cmd=[0,0,pi/2]):\n",
    "        data = {\n",
    "            # [ length, (limits), offset]\n",
    "            'coxa':   [52, [-90, 90], 150],\n",
    "            'femur':  [90, [-100, 100], 150],   # fixme\n",
    "            'tibia':  [89, [-190, 120], 220],  # fixme\n",
    "            'tarsus': [90, [-90, 90], 150],\n",
    "\n",
    "            # gait\n",
    "            # Angles: 0.00 75.60 -120.39 -45.22\n",
    "            # 0.00 93.51 -138.68 -44.83\n",
    "            'stand': [0, 94, -139, -45],  # this determines the neutral leg position\n",
    "            # 'sit': [0, 90, -90, -90],\n",
    "\n",
    "            # engine\n",
    "            # 'serialPort': '/dev/tty.usbserial-A506BOT5'\n",
    "        }\n",
    "\n",
    "        leg = Leg4(data)  # 4 servo leg\n",
    "        gait = DiscreteRippleGait(35.0, leg.getNeutralPos())  # ripple gait\n",
    "\n",
    "        # cmd = [1,0,0]                             # go straight\n",
    "#         cmd = [0,0,pi/2]                             # turn\n",
    "        pts = gait.oneCycle_alt(*cmd)              # array of 3d foot pts\n",
    "        # print(pts)\n",
    "        self.angle = leg.generateServoAngles_alt(pts)  # array of leg servo angles\n",
    "\n",
    "        fig = plt.figure()\n",
    "        self.fig = fig\n",
    "        # radial plot \n",
    "        self.ax1 = fig.add_subplot(121,projection='polar')\n",
    "        self.ax1.set_title('Azimuth Angle (x-y plane)')\n",
    "        # line1, = ax1.plot([], [], lw=2)\n",
    "        self.line1 = Line2D([], [], color='black')\n",
    "        self.ax1.add_line(self.line1)\n",
    "        # ax1.set_aspect('equal', 'datalim')\n",
    "\n",
    "        # scatter plot\n",
    "        self.ax2 = fig.add_subplot(122, aspect='equal')\n",
    "        # line2, = ax2.plot([], [], lw=2)\n",
    "        self.line2 = Line2D([], [], color='black', linewidth=2)\n",
    "        self.ax2.set_xlabel('w')\n",
    "        self.ax2.set_ylabel('z')\n",
    "        self.ax2.add_line(self.line2)\n",
    "        self.ax2.set_xlim(-10, 300)\n",
    "        self.ax2.set_ylim(-100, 150)\n",
    "        # ax2.set_aspect('equal')\n",
    "        self.ax2.grid()  # turn grid on\n",
    "        \n",
    "    def rplot(self, t1, t2, t3, t4, degrees=True):\n",
    "        \"\"\"Given the 4 joint angles (in rads), plot the arm in the x-y and w-z planes\n",
    "\n",
    "        x = (d2 + l1*cos(t2) + l2*cos(t2 + t3) + l3*cos(t2 + t3 + t4))*cos(t1)\n",
    "        y = (d2 + l1*cos(t2) + l2*cos(t2 + t3) + l3*cos(t2 + t3 + t4))*sin(t1)\n",
    "        z = l1*sin(t2) + l2*sin(t2 + t3) + l3*sin(t2 + t3 + t4)\n",
    "        \"\"\"\n",
    "        l1 = 52\n",
    "        l2 = 89\n",
    "        l3 = 90\n",
    "        l4 = 95\n",
    "\n",
    "        ptsx = [0]\n",
    "        ptsy = [0]\n",
    "\n",
    "        if degrees:\n",
    "            t1 *= pi/180\n",
    "            t2 *= pi/180\n",
    "            t3 *= pi/180\n",
    "            t4 *= pi/180\n",
    "\n",
    "\n",
    "        # our definition is reverse or these joints\n",
    "        # link 1\n",
    "        x0 = l1\n",
    "        y0 = 0\n",
    "        ptsx.append(x0)\n",
    "        ptsy.append(y0)\n",
    "\n",
    "        # link 2\n",
    "        x1 = x0 + l2*cos(t2)\n",
    "        y1 = y0 + l2*sin(t2)\n",
    "        ptsx.append(x1)\n",
    "        ptsy.append(y1)\n",
    "\n",
    "        # link 3\n",
    "        x2 = x1 + l3*cos(t2 + t3)\n",
    "        y2 = y1 + l3*sin(t2 + t3)\n",
    "        ptsx.append(x2)\n",
    "        ptsy.append(y2)\n",
    "\n",
    "        # link 4\n",
    "        x3 = x2 + l4*cos(t2 + t3 + t4)\n",
    "        y3 = y2 + l4*sin(t2 + t3 + t4)\n",
    "        ptsx.append(x3)\n",
    "        ptsy.append(y3)\n",
    "\n",
    "        self.line1.set_data([0, t1], [0, 1.0])\n",
    "        self.line2.set_data(ptsx, ptsy)\n",
    "        return (self.line1, self.line2)\n",
    "    \n",
    "    def anim_animate(self, i):\n",
    "        angles = self.angle[0][i]\n",
    "        # put back into DH space, note, the offsets aren't all the same\n",
    "        aa = [a-o for a,o in zip(angles, [150,150,220,150])]\n",
    "        return self.rplot(*aa)\n",
    "    \n",
    "    def run(self):\n",
    "        anim = animation.FuncAnimation(self.fig, self.anim_animate, frames=len(self.angle[0]), blit=True)\n",
    "        self.anim = anim"
   ]
  },
  {
   "cell_type": "code",
   "execution_count": 24,
   "metadata": {},
   "outputs": [
    {
     "name": "stdout",
     "output_type": "stream",
     "text": [
      "DH2Servo[1] error 104 > 100\n",
      "DH2Servo[1] error 109 > 100\n",
      "DH2Servo[1] error 104 > 100\n",
      "DH2Servo[1] error 104 > 100\n",
      "DH2Servo[1] error 109 > 100\n",
      "DH2Servo[1] error 104 > 100\n",
      "DH2Servo[1] error 104 > 100\n",
      "DH2Servo[1] error 109 > 100\n",
      "DH2Servo[1] error 104 > 100\n",
      "DH2Servo[1] error 104 > 100\n",
      "DH2Servo[1] error 109 > 100\n",
      "DH2Servo[1] error 104 > 100\n"
     ]
    },
    {
     "data": {
      "image/png": "[encoded data removed]",
      "text/plain": [
       "<Figure size 432x288 with 2 Axes>"
      ]
     },
     "metadata": {},
     "output_type": "display_data"
    }
   ],
   "source": [
    "s = Sim()\n",
    "s.run()"
   ]
  },
  {
   "cell_type": "code",
   "execution_count": 21,
   "metadata": {},
   "outputs": [],
   "source": [
    "# when i call the animation, this will make it work\n",
    "rc('animation', html='html5')"
   ]
  },
  {
   "cell_type": "code",
   "execution_count": 26,
   "metadata": {},
   "outputs": [
    {
     "data": {
      "text/plain": [
       "[[195.0, 253.6264243168684, 87.39535822940843, 88.9782174537232],\n",
       " [165.0, 258.96610937515305, 95.87998912446632, 75.1539015003806],\n",
       " [135.0, 253.6264243168684, 87.39535822940843, 88.9782174537232],\n",
       " [105.0, 244.0, 81.0, 105.00000000000006],\n",
       " [115.0, 244.0, 81.0, 105.00000000000006],\n",
       " [125.0, 244.0, 81.0, 104.99999999999994],\n",
       " [135.0, 244.0, 81.0, 105.00000000000006],\n",
       " [145.0, 244.0, 81.00000000000003, 104.99999999999994],\n",
       " [155.0, 244.0, 81.00000000000003, 104.99999999999994],\n",
       " [165.0, 244.0, 81.0, 105.00000000000006],\n",
       " [175.0, 244.0, 81.0, 105.00000000000006],\n",
       " [185.0, 244.0, 81.0, 105.00000000000006]]"
      ]
     },
     "execution_count": 26,
     "metadata": {},
     "output_type": "execute_result"
    }
   ],
   "source": [
    "s.angle[0]"
   ]
  },
  {
   "cell_type": "code",
   "execution_count": null,
   "metadata": {},
   "outputs": [],
   "source": []
  }
 ],
 "metadata": {
  "kernelspec": {
   "display_name": "Python 2",
   "language": "python",
   "name": "python2"
  },
  "language_info": {
   "codemirror_mode": {
    "name": "ipython",
    "version": 2
   },
   "file_extension": ".py",
   "mimetype": "text/x-python",
   "name": "python",
   "nbconvert_exporter": "python",
   "pygments_lexer": "ipython2",
   "version": "2.7.14"
  }
 },
 "nbformat": 4,
 "nbformat_minor": 2
}
